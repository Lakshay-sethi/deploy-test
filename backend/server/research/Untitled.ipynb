{
 "cells": [
  {
   "cell_type": "code",
   "execution_count": 2,
   "source": [
    "import json # will be needed for saving preprocessing details\r\n",
    "import numpy as np # for data manipulation\r\n",
    "import pandas as pd # for data manipulation\r\n",
    "from sklearn.model_selection import train_test_split # will be used for data split\r\n",
    "from sklearn.preprocessing import LabelEncoder # for preprocessing\r\n",
    "from sklearn.ensemble import RandomForestClassifier # for training the algorithm\r\n",
    "from sklearn.ensemble import ExtraTreesClassifier # for training the algorithm\r\n",
    "import joblib # for saving algorithm and preprocessing objects"
   ],
   "outputs": [],
   "metadata": {}
  },
  {
   "cell_type": "code",
   "execution_count": 3,
   "source": [
    "# load dataset\r\n",
    "df = pd.read_csv('https://raw.githubusercontent.com/pplonski/datasets-for-start/master/adult/data.csv', skipinitialspace=True)\r\n",
    "x_cols = [c for c in df.columns if c != 'income']\r\n",
    "# set input matrix and target column\r\n",
    "X = df[x_cols]\r\n",
    "y = df['income']\r\n",
    "\r\n"
   ],
   "outputs": [],
   "metadata": {}
  },
  {
   "cell_type": "code",
   "execution_count": null,
   "source": [
    "# data split train / test\r\n",
    "X_train, X_test, y_train, y_test = train_test_split(X, y, test_size = 0.3, random_state=1234)"
   ],
   "outputs": [],
   "metadata": {}
  },
  {
   "cell_type": "code",
   "execution_count": null,
   "source": [
    "train_mode = dict(X_train.mode().iloc[0])\r\n",
    "X_train = X_train.fillna(train_mode)\r\n",
    "print(train_mode)"
   ],
   "outputs": [],
   "metadata": {}
  },
  {
   "cell_type": "code",
   "execution_count": null,
   "source": [
    "encoders = {}\r\n",
    "for column in ['workclass', 'education', 'marital-status',\r\n",
    "                'occupation', 'relationship', 'race',\r\n",
    "                'sex','native-country']:\r\n",
    "    categorical_convert = LabelEncoder()\r\n",
    "    X_train[column] = categorical_convert.fit_transform(X_train[column])\r\n",
    "    encoders[column] = categorical_convert"
   ],
   "outputs": [],
   "metadata": {}
  },
  {
   "cell_type": "code",
   "execution_count": null,
   "source": [
    "# train the Random Forest algorithm\r\n",
    "rf = RandomForestClassifier(n_estimators = 100)\r\n",
    "rf = rf.fit(X_train, y_train)\r\n",
    "We will also train Extra Trees algorithm:\r\n",
    "\r\n",
    "# train the Extra Trees algorithm\r\n",
    "et = ExtraTreesClassifier(n_estimators = 100)\r\n",
    "et = et.fit(X_train, y_train)"
   ],
   "outputs": [],
   "metadata": {}
  },
  {
   "cell_type": "code",
   "execution_count": null,
   "source": [
    "# save preprocessing objects and RF algorithm\r\n",
    "joblib.dump(train_mode, \"./train_mode.joblib\", compress=True)\r\n",
    "joblib.dump(encoders, \"./encoders.joblib\", compress=True)\r\n",
    "joblib.dump(rf, \"./random_forest.joblib\", compress=True)\r\n",
    "joblib.dump(et, \"./extra_trees.joblib\", compress=True)"
   ],
   "outputs": [],
   "metadata": {}
  },
  {
   "cell_type": "code",
   "execution_count": null,
   "source": [],
   "outputs": [],
   "metadata": {}
  }
 ],
 "metadata": {
  "kernelspec": {
   "name": "python3",
   "display_name": "Python 3.7.6 64-bit ('base': conda)"
  },
  "language_info": {
   "codemirror_mode": {
    "name": "ipython",
    "version": 3
   },
   "file_extension": ".py",
   "mimetype": "text/x-python",
   "name": "python",
   "nbconvert_exporter": "python",
   "pygments_lexer": "ipython3",
   "version": "3.7.6"
  },
  "interpreter": {
   "hash": "c958774743908812a06d5249a6a57af991212914420a506af38b26bbd3d5952a"
  }
 },
 "nbformat": 4,
 "nbformat_minor": 5
}